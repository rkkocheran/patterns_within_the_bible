{
 "cells": [
  {
   "cell_type": "code",
   "execution_count": 1,
   "id": "f1a284a5",
   "metadata": {},
   "outputs": [],
   "source": [
    "import pandas as pd\n",
    "import re"
   ]
  },
  {
   "cell_type": "code",
   "execution_count": 2,
   "id": "970b2b43",
   "metadata": {
    "scrolled": true
   },
   "outputs": [
    {
     "data": {
      "text/html": [
       "<div>\n",
       "<style scoped>\n",
       "    .dataframe tbody tr th:only-of-type {\n",
       "        vertical-align: middle;\n",
       "    }\n",
       "\n",
       "    .dataframe tbody tr th {\n",
       "        vertical-align: top;\n",
       "    }\n",
       "\n",
       "    .dataframe thead th {\n",
       "        text-align: right;\n",
       "    }\n",
       "</style>\n",
       "<table border=\"1\" class=\"dataframe\">\n",
       "  <thead>\n",
       "    <tr style=\"text-align: right;\">\n",
       "      <th></th>\n",
       "      <th>Description</th>\n",
       "      <th>Category</th>\n",
       "      <th>Reference</th>\n",
       "      <th>Location</th>\n",
       "      <th>Date</th>\n",
       "      <th>Messenger</th>\n",
       "      <th>Supporting References/Notes</th>\n",
       "    </tr>\n",
       "  </thead>\n",
       "  <tbody>\n",
       "    <tr>\n",
       "      <th>0</th>\n",
       "      <td>Creation of the heavens and earth</td>\n",
       "      <td>Creation</td>\n",
       "      <td>Genesis 1:1-2:3</td>\n",
       "      <td>Earth</td>\n",
       "      <td>Beginning of Time</td>\n",
       "      <td>GOD</td>\n",
       "      <td>NaN</td>\n",
       "    </tr>\n",
       "    <tr>\n",
       "      <th>1</th>\n",
       "      <td>God speaks light into existence</td>\n",
       "      <td>Speech/Creation</td>\n",
       "      <td>Genesis 1:3</td>\n",
       "      <td>Earth</td>\n",
       "      <td>Beginning of Time</td>\n",
       "      <td>GOD</td>\n",
       "      <td>NaN</td>\n",
       "    </tr>\n",
       "    <tr>\n",
       "      <th>2</th>\n",
       "      <td>God speaks to separate waters and create firma...</td>\n",
       "      <td>Speech/Creation</td>\n",
       "      <td>Genesis 1:6-8</td>\n",
       "      <td>Earth</td>\n",
       "      <td>Beginning of Time</td>\n",
       "      <td>GOD</td>\n",
       "      <td>NaN</td>\n",
       "    </tr>\n",
       "    <tr>\n",
       "      <th>3</th>\n",
       "      <td>God speaks dry land and seas into existence</td>\n",
       "      <td>Speech/Creation</td>\n",
       "      <td>Genesis 1:9-10</td>\n",
       "      <td>Earth</td>\n",
       "      <td>Beginning of Time</td>\n",
       "      <td>GOD</td>\n",
       "      <td>NaN</td>\n",
       "    </tr>\n",
       "    <tr>\n",
       "      <th>4</th>\n",
       "      <td>God speaks vegetation into existence</td>\n",
       "      <td>Speech/Creation</td>\n",
       "      <td>Genesis 1:11-13</td>\n",
       "      <td>Earth</td>\n",
       "      <td>Beginning of Time</td>\n",
       "      <td>GOD</td>\n",
       "      <td>NaN</td>\n",
       "    </tr>\n",
       "    <tr>\n",
       "      <th>...</th>\n",
       "      <td>...</td>\n",
       "      <td>...</td>\n",
       "      <td>...</td>\n",
       "      <td>...</td>\n",
       "      <td>...</td>\n",
       "      <td>...</td>\n",
       "      <td>...</td>\n",
       "    </tr>\n",
       "    <tr>\n",
       "      <th>2977</th>\n",
       "      <td>Tree of life bears twelve kinds of fruit</td>\n",
       "      <td>Provision</td>\n",
       "      <td>Revelation 22:2</td>\n",
       "      <td>New Jerusalem</td>\n",
       "      <td>Future</td>\n",
       "      <td>God</td>\n",
       "      <td>Genesis 2:9; 3:22; Ezekiel 47:12</td>\n",
       "    </tr>\n",
       "    <tr>\n",
       "      <th>2978</th>\n",
       "      <td>No more curse, night, or need for light</td>\n",
       "      <td>Transformation</td>\n",
       "      <td>Revelation 22:3-5</td>\n",
       "      <td>New Jerusalem</td>\n",
       "      <td>Future</td>\n",
       "      <td>God</td>\n",
       "      <td>Genesis 3:17; Zechariah 14:7</td>\n",
       "    </tr>\n",
       "    <tr>\n",
       "      <th>2979</th>\n",
       "      <td>Angel shows John these things</td>\n",
       "      <td>Revelation</td>\n",
       "      <td>Revelation 22:6-9</td>\n",
       "      <td>Island of Patmos</td>\n",
       "      <td>c. 95 AD</td>\n",
       "      <td>Angel</td>\n",
       "      <td>Daniel 8:26; 12:4</td>\n",
       "    </tr>\n",
       "    <tr>\n",
       "      <th>2980</th>\n",
       "      <td>Jesus declares His coming quickly</td>\n",
       "      <td>Promise</td>\n",
       "      <td>Revelation 22:7, 12, 20</td>\n",
       "      <td>Island of Patmos</td>\n",
       "      <td>c. 95 AD</td>\n",
       "      <td>Jesus Christ</td>\n",
       "      <td>Malachi 3:1; Matthew 16:27</td>\n",
       "    </tr>\n",
       "    <tr>\n",
       "      <th>2981</th>\n",
       "      <td>Spirit and Bride say \"Come\"</td>\n",
       "      <td>Invitation</td>\n",
       "      <td>Revelation 22:17</td>\n",
       "      <td>Island of Patmos</td>\n",
       "      <td>c. 95 AD</td>\n",
       "      <td>Holy Spirit/Church</td>\n",
       "      <td>Isaiah 55:1</td>\n",
       "    </tr>\n",
       "  </tbody>\n",
       "</table>\n",
       "<p>2982 rows × 7 columns</p>\n",
       "</div>"
      ],
      "text/plain": [
       "                                            Description         Category  \\\n",
       "0                     Creation of the heavens and earth         Creation   \n",
       "1                       God speaks light into existence  Speech/Creation   \n",
       "2     God speaks to separate waters and create firma...  Speech/Creation   \n",
       "3           God speaks dry land and seas into existence  Speech/Creation   \n",
       "4                  God speaks vegetation into existence  Speech/Creation   \n",
       "...                                                 ...              ...   \n",
       "2977           Tree of life bears twelve kinds of fruit        Provision   \n",
       "2978            No more curse, night, or need for light   Transformation   \n",
       "2979                      Angel shows John these things       Revelation   \n",
       "2980                  Jesus declares His coming quickly          Promise   \n",
       "2981                        Spirit and Bride say \"Come\"       Invitation   \n",
       "\n",
       "                    Reference          Location               Date  \\\n",
       "0             Genesis 1:1-2:3             Earth  Beginning of Time   \n",
       "1                 Genesis 1:3             Earth  Beginning of Time   \n",
       "2               Genesis 1:6-8             Earth  Beginning of Time   \n",
       "3              Genesis 1:9-10             Earth  Beginning of Time   \n",
       "4             Genesis 1:11-13             Earth  Beginning of Time   \n",
       "...                       ...               ...                ...   \n",
       "2977          Revelation 22:2     New Jerusalem             Future   \n",
       "2978        Revelation 22:3-5     New Jerusalem             Future   \n",
       "2979        Revelation 22:6-9  Island of Patmos           c. 95 AD   \n",
       "2980  Revelation 22:7, 12, 20  Island of Patmos           c. 95 AD   \n",
       "2981         Revelation 22:17  Island of Patmos           c. 95 AD   \n",
       "\n",
       "               Messenger       Supporting References/Notes  \n",
       "0                    GOD                               NaN  \n",
       "1                    GOD                               NaN  \n",
       "2                    GOD                               NaN  \n",
       "3                    GOD                               NaN  \n",
       "4                    GOD                               NaN  \n",
       "...                  ...                               ...  \n",
       "2977                 God  Genesis 2:9; 3:22; Ezekiel 47:12  \n",
       "2978                 God      Genesis 3:17; Zechariah 14:7  \n",
       "2979               Angel                 Daniel 8:26; 12:4  \n",
       "2980        Jesus Christ        Malachi 3:1; Matthew 16:27  \n",
       "2981  Holy Spirit/Church                       Isaiah 55:1  \n",
       "\n",
       "[2982 rows x 7 columns]"
      ]
     },
     "execution_count": 2,
     "metadata": {},
     "output_type": "execute_result"
    }
   ],
   "source": [
    "df = pd.read_excel('../acts_and_miracles/acts_and_miracles_preprep.xlsm', sheet_name='acts_and_miracles')\n",
    "#df = pd.read_excel('../acts_and_miracles/acts_and_miracles.xlsx', sheet_name='acts_and_miracles')\n",
    "df = df.dropna(how='all')\n",
    "df"
   ]
  },
  {
   "cell_type": "code",
   "execution_count": 3,
   "id": "61a9de70",
   "metadata": {
    "scrolled": true
   },
   "outputs": [
    {
     "data": {
      "text/plain": [
       "Index(['Description', 'Category', 'Reference', 'Location', 'Date', 'Messenger',\n",
       "       'Supporting References/Notes'],\n",
       "      dtype='object')"
      ]
     },
     "execution_count": 3,
     "metadata": {},
     "output_type": "execute_result"
    }
   ],
   "source": [
    "df.columns"
   ]
  },
  {
   "cell_type": "code",
   "execution_count": 9,
   "id": "83fc298a",
   "metadata": {},
   "outputs": [],
   "source": [
    "def extract_words_left_of_numbers(text):\n",
    "    \"\"\"\n",
    "    Extract all words left of middle-occurring numbers,\n",
    "    or leftmost number+words if starts with number\n",
    "    \"\"\"\n",
    "    if pd.isna(text):\n",
    "        return \"\"\n",
    "    \n",
    "    text = str(text).strip()\n",
    "    \n",
    "    # Case 1: Starts with number - get number + following words until next number\n",
    "    if re.match(r'^\\d', text):\n",
    "        pattern = r'^(\\d+\\s*[A-Za-z]+(?:\\s+[A-Za-z]+)*)'\n",
    "        match = re.search(pattern, text)\n",
    "        return match.group(1).strip() if match else \"\"\n",
    "    \n",
    "    # Case 2: Starts with letters - get all words before first number\n",
    "    else:\n",
    "        pattern = r'^([A-Za-z]+(?:\\s+[A-Za-z]+)*)'\n",
    "        match = re.search(pattern, text)\n",
    "        return match.group(1).strip() if match else \"\""
   ]
  },
  {
   "cell_type": "markdown",
   "id": "b556838e",
   "metadata": {},
   "source": [
    "num_df = pd.read_excel('../acts_and_miracles/acts_and_miracles_preprep.xlsx', sheet_name='book_to_number', header=0)\n",
    "num_df"
   ]
  },
  {
   "cell_type": "markdown",
   "id": "033d13ef",
   "metadata": {},
   "source": [
    "ref_df = pd.read_excel('../acts_and_miracles/acts_and_miracles_preprep.xlsx', sheet_name='acts_and_miracles')\n",
    "ref_df['Reference'] = ref_df['Reference'].str.replace('Psalm', 'Psalms')\n",
    "ref_df"
   ]
  },
  {
   "cell_type": "markdown",
   "id": "4e27d8fd",
   "metadata": {},
   "source": [
    "ref_df['book_name'] = [extract_words_left_of_numbers(ref) for ref in ref_df.Reference]\n",
    "ref_df"
   ]
  },
  {
   "cell_type": "markdown",
   "id": "7f51740c",
   "metadata": {},
   "source": [
    "mergeddf = pd.merge(ref_df, num_df, how='left', on='book_name')\n",
    "mergeddf\n",
    "mergeddf.to_excel('../acts_and_miracles/acts_and_miracles.xlsx', sheet_name='acts_and_miracles', index=False)"
   ]
  },
  {
   "cell_type": "code",
   "execution_count": null,
   "id": "01a3db12",
   "metadata": {},
   "outputs": [],
   "source": [
    "def extract_year_and_era(df, column_name, year_col='first_year', era_col='era'):\n",
    "    \"\"\"\n",
    "    Extract first year and BC/AD era into separate columns\n",
    "    \n",
    "    Parameters:\n",
    "    - df: DataFrame\n",
    "    - column_name: name of column containing date strings\n",
    "    - year_col: name for new year column\n",
    "    - era_col: name for new era column\n",
    "    \"\"\"\n",
    "    \n",
    "    def parse_date_string(text):\n",
    "        \"\"\"\n",
    "        Parse date string and return (year, era)\n",
    "        \"\"\"\n",
    "        if pd.isna(text) or text == '':\n",
    "            return None, None\n",
    "        \n",
    "        text = str(text).strip().upper()\n",
    "        \n",
    "        # Remove common prefixes\n",
    "        prefixes = r'^(CIRCA|C\\.|ABOUT|CA\\.|AROUND|APPROXIMATELY|APPROX\\.?)\\s*'\n",
    "        text = re.sub(prefixes, '', text, flags=re.IGNORECASE)\n",
    "        \n",
    "        # Pattern to capture year and era\n",
    "        pattern = r'(\\d{1,4})(?:\\s*-\\s*\\d{1,4})?\\s*(BC|AD|BCE|CE|BC\\.?|AD\\.?)?'\n",
    "        \n",
    "        matches = re.findall(pattern, text)\n",
    "        \n",
    "        if matches:\n",
    "            year_str, era = matches[0]\n",
    "            year = int(year_str)\n",
    "            \n",
    "            # Standardize era values\n",
    "            if era:\n",
    "                era = era.replace('.', '').upper()\n",
    "                if era in ['BC', 'BCE']:\n",
    "                    era = 'BC'\n",
    "                elif era in ['AD', 'CE']:\n",
    "                    era = 'AD'\n",
    "            else:\n",
    "                # If no era specified and year > 1000, assume AD\n",
    "                era = 'AD' if year > 1000 else None\n",
    "            \n",
    "            return year, era\n",
    "        \n",
    "        return None, None\n",
    "    \n",
    "    # Apply parsing function\n",
    "    parsed_data = df[column_name].apply(parse_date_string)\n",
    "    \n",
    "    # Split into separate columns\n",
    "    df[year_col] = [item[0] for item in parsed_data]\n",
    "    df[era_col] = [item[1] for item in parsed_data]\n",
    "    \n",
    "    return df"
   ]
  },
  {
   "cell_type": "code",
   "execution_count": null,
   "id": "b5ef8785",
   "metadata": {},
   "outputs": [],
   "source": [
    "result_df = extract_year_and_era(df, 'Date')\n",
    "#df.to_excel('../acts_and_miracles/acts_and_miracles.xlsx', sheet_name='acts_and_miracles', index=False)"
   ]
  },
  {
   "cell_type": "code",
   "execution_count": null,
   "id": "2d81d22b",
   "metadata": {},
   "outputs": [],
   "source": [
    "def alphabetize_slash_strings_replace_nan(string_list):\n",
    "    return ['/'.join(sorted(str(s).split('/'))) if pd.notna(s) else '' for s in string_list]"
   ]
  },
  {
   "cell_type": "markdown",
   "id": "16b0d7ff",
   "metadata": {},
   "source": [
    "result = alphabetize_slash_strings_replace_nan(df.Category.tolist())"
   ]
  },
  {
   "cell_type": "markdown",
   "id": "3aa100c3",
   "metadata": {},
   "source": [
    "df.Category = result\n",
    "df.Category"
   ]
  },
  {
   "cell_type": "markdown",
   "id": "ce034ae8",
   "metadata": {},
   "source": [
    "df.head(20)"
   ]
  },
  {
   "cell_type": "code",
   "execution_count": 8,
   "id": "873b0260",
   "metadata": {},
   "outputs": [],
   "source": [
    "#df.to_excel('../acts_and_miracles/acts_and_miracles.xlsx', sheet_name='acts_and_miracles', index=False)"
   ]
  },
  {
   "cell_type": "code",
   "execution_count": null,
   "id": "e9cb37fb",
   "metadata": {},
   "outputs": [],
   "source": []
  }
 ],
 "metadata": {
  "kernelspec": {
   "display_name": "Python 3 (ipykernel)",
   "language": "python",
   "name": "python3"
  },
  "language_info": {
   "codemirror_mode": {
    "name": "ipython",
    "version": 3
   },
   "file_extension": ".py",
   "mimetype": "text/x-python",
   "name": "python",
   "nbconvert_exporter": "python",
   "pygments_lexer": "ipython3",
   "version": "3.9.13"
  }
 },
 "nbformat": 4,
 "nbformat_minor": 5
}

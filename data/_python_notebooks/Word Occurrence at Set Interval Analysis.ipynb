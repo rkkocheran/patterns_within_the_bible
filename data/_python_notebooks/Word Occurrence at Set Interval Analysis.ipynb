{
 "cells": [
  {
   "cell_type": "markdown",
   "id": "99035369",
   "metadata": {},
   "source": [
    "# Hebrew \"Torah\" Pattern Analysis"
   ]
  },
  {
   "cell_type": "markdown",
   "id": "25880373",
   "metadata": {},
   "source": [
    "Torah = (תּוֹרָה) = tav (ת), vav (ו), resh (ר), and hey (ה)\n",
    "<br />\n",
    "Yahweh = (יהוה) = yod (י), heh (ה),  vav (ו), heh (ה) or YHWH/YHVH\n",
    "\n",
    "Notes:\n",
    "1. In Genesis, 50-step counting begins at the first occurance of tav (ת), which is the 5th letter, which occurs at the end of the first word, \"resit\" or \"In the beginning\".\n",
    "2. In Exodus, 50-step counting begins at the first occurance of tav (ת), which is the 8th letter, which occurs at the end of the second word, \"sem\" or \"the names\".\n",
    "3. In Leviticus, 8-step counting begins at the first occurance of yod (י), which is the 2nd letter, which occurs at the start of the first word, \"qara\" or \"called\".\n",
    "4. In Numbers, 50-step counting starts with the third occurance of hey (ה) which is the 14th letter, which occurs at the end of the 4th word, \"mose\" or \"Moses\".\n",
    "5. In Deuteronomy, 49-step counting starts in the fifth verse, using the fourth occurance of hey (ה) (starting from the fifth verse), which is the 30th letter, which occurs at the start of the 8th word, \"et-tora\" or \"Torah\"."
   ]
  },
  {
   "cell_type": "code",
   "execution_count": 1,
   "id": "8736366d",
   "metadata": {},
   "outputs": [],
   "source": [
    "# Import statements\n",
    "import pandas as pd\n",
    "import numpy as np\n",
    "import re"
   ]
  },
  {
   "cell_type": "code",
   "execution_count": 2,
   "id": "3c7c4437",
   "metadata": {},
   "outputs": [],
   "source": [
    "# Import the data files\n",
    "heb_mod_df = pd.read_csv(r'..\\translations\\hebrew_modern.csv', header=0, names=['verse_id', 'book_name','book_number','chapter','verse','content'])"
   ]
  },
  {
   "cell_type": "code",
   "execution_count": 3,
   "id": "64180628",
   "metadata": {
    "scrolled": true
   },
   "outputs": [
    {
     "data": {
      "text/html": [
       "<div>\n",
       "<style scoped>\n",
       "    .dataframe tbody tr th:only-of-type {\n",
       "        vertical-align: middle;\n",
       "    }\n",
       "\n",
       "    .dataframe tbody tr th {\n",
       "        vertical-align: top;\n",
       "    }\n",
       "\n",
       "    .dataframe thead th {\n",
       "        text-align: right;\n",
       "    }\n",
       "</style>\n",
       "<table border=\"1\" class=\"dataframe\">\n",
       "  <thead>\n",
       "    <tr style=\"text-align: right;\">\n",
       "      <th></th>\n",
       "      <th>verse_id</th>\n",
       "      <th>book_name</th>\n",
       "      <th>book_number</th>\n",
       "      <th>chapter</th>\n",
       "      <th>verse</th>\n",
       "      <th>content</th>\n",
       "    </tr>\n",
       "  </thead>\n",
       "  <tbody>\n",
       "    <tr>\n",
       "      <th>0</th>\n",
       "      <td>1</td>\n",
       "      <td>בְּרֵאשִׁית</td>\n",
       "      <td>1</td>\n",
       "      <td>1</td>\n",
       "      <td>1</td>\n",
       "      <td>¶ בראשית ברא אלהים את השמים ואת הארץ׃</td>\n",
       "    </tr>\n",
       "    <tr>\n",
       "      <th>1</th>\n",
       "      <td>2</td>\n",
       "      <td>בְּרֵאשִׁית</td>\n",
       "      <td>1</td>\n",
       "      <td>1</td>\n",
       "      <td>2</td>\n",
       "      <td>והארץ היתה תהו ובהו וחשך על פני תהום ורוח אלהי...</td>\n",
       "    </tr>\n",
       "    <tr>\n",
       "      <th>2</th>\n",
       "      <td>3</td>\n",
       "      <td>בְּרֵאשִׁית</td>\n",
       "      <td>1</td>\n",
       "      <td>1</td>\n",
       "      <td>3</td>\n",
       "      <td>ויאמר אלהים יהי אור ויהי אור׃</td>\n",
       "    </tr>\n",
       "    <tr>\n",
       "      <th>3</th>\n",
       "      <td>4</td>\n",
       "      <td>בְּרֵאשִׁית</td>\n",
       "      <td>1</td>\n",
       "      <td>1</td>\n",
       "      <td>4</td>\n",
       "      <td>וירא אלהים את האור כי טוב ויבדל אלהים בין האור...</td>\n",
       "    </tr>\n",
       "    <tr>\n",
       "      <th>4</th>\n",
       "      <td>5</td>\n",
       "      <td>בְּרֵאשִׁית</td>\n",
       "      <td>1</td>\n",
       "      <td>1</td>\n",
       "      <td>5</td>\n",
       "      <td>ויקרא אלהים לאור יום ולחשך קרא לילה ויהי ערב ו...</td>\n",
       "    </tr>\n",
       "  </tbody>\n",
       "</table>\n",
       "</div>"
      ],
      "text/plain": [
       "   verse_id    book_name  book_number  chapter  verse  \\\n",
       "0         1  בְּרֵאשִׁית            1        1      1   \n",
       "1         2  בְּרֵאשִׁית            1        1      2   \n",
       "2         3  בְּרֵאשִׁית            1        1      3   \n",
       "3         4  בְּרֵאשִׁית            1        1      4   \n",
       "4         5  בְּרֵאשִׁית            1        1      5   \n",
       "\n",
       "                                             content  \n",
       "0              ¶ בראשית ברא אלהים את השמים ואת הארץ׃  \n",
       "1  והארץ היתה תהו ובהו וחשך על פני תהום ורוח אלהי...  \n",
       "2                      ויאמר אלהים יהי אור ויהי אור׃  \n",
       "3  וירא אלהים את האור כי טוב ויבדל אלהים בין האור...  \n",
       "4  ויקרא אלהים לאור יום ולחשך קרא לילה ויהי ערב ו...  "
      ]
     },
     "execution_count": 3,
     "metadata": {},
     "output_type": "execute_result"
    }
   ],
   "source": [
    "heb_mod_df.head()"
   ]
  },
  {
   "cell_type": "code",
   "execution_count": 4,
   "id": "09e96d4a",
   "metadata": {},
   "outputs": [],
   "source": [
    "# Declare the words to match as lists\n",
    "torah_letters = ['ת', 'ו', 'ר', 'ה']\n",
    "yahweh_letters = ['י', 'ה', 'ו', 'ה']\n",
    "torah_rev_letters = list(reversed(torah_letters))"
   ]
  },
  {
   "cell_type": "code",
   "execution_count": 5,
   "id": "ee5d8a88",
   "metadata": {},
   "outputs": [],
   "source": [
    "# Return a list of indices for all occurances of a given letter in a given text\n",
    "def get_indices(text, letter):\n",
    "    return [i for i, c in enumerate(text) if c == letter]"
   ]
  },
  {
   "cell_type": "code",
   "execution_count": 6,
   "id": "b5f777ff",
   "metadata": {},
   "outputs": [],
   "source": [
    "# Return whether the given letters are present in order in the given df\n",
    "def compare_pattern(compare_df, matches):\n",
    "    if len(compare_df) < len(matches):\n",
    "        return False\n",
    "    for i in list(range(len(matches))):\n",
    "        if compare_df.letter[i] != matches[i]:\n",
    "            return False\n",
    "        else:\n",
    "            continue\n",
    "    return True"
   ]
  },
  {
   "cell_type": "code",
   "execution_count": 7,
   "id": "7c48f052",
   "metadata": {},
   "outputs": [],
   "source": [
    "# Pull every Nth letter, given the starting char and occurance\n",
    "def forward_parse(text, start_pos, step, letters):\n",
    "    \n",
    "    index = 1\n",
    "    first_iteration=True\n",
    "    letter_count = 0\n",
    "    index_list = []\n",
    "\n",
    "    for i, c in enumerate(text):\n",
    "        if i < start_pos and first_iteration:\n",
    "            index_list.append(index)\n",
    "        elif i == start_pos:\n",
    "            index = 0\n",
    "            first_iteration = False\n",
    "            index_list.append(index)\n",
    "            letter_count = 1\n",
    "        elif index < step and not first_iteration:\n",
    "            index_list.append(index)\n",
    "        else:\n",
    "            index = 0\n",
    "            index_list.append(index)\n",
    "            letter_count += 1\n",
    "        index += 1\n",
    "        \n",
    "    df = pd.DataFrame(list(zip(index_list, text)), columns=['position', 'letter'])\n",
    "    return df.loc[df.position == 0].reset_index().head(len(letters))"
   ]
  },
  {
   "cell_type": "code",
   "execution_count": 8,
   "id": "4469afdf",
   "metadata": {
    "scrolled": true
   },
   "outputs": [],
   "source": [
    "genesis_heb_df = heb_mod_df.loc[heb_mod_df.book_number == 1]\n",
    "exodus_heb_df = heb_mod_df.loc[heb_mod_df.book_number == 2]\n",
    "lev_heb_df = heb_mod_df.loc[heb_mod_df.book_number == 3]\n",
    "numbers_heb_df = heb_mod_df.loc[heb_mod_df.book_number == 4]\n",
    "deut_heb_df = heb_mod_df.loc[heb_mod_df.book_number == 5]"
   ]
  },
  {
   "cell_type": "code",
   "execution_count": 9,
   "id": "3c916a5a",
   "metadata": {},
   "outputs": [],
   "source": [
    "gen_text = re.sub('[ ¶׃]', '', ''.join(genesis_heb_df.content))\n",
    "exo_text = re.sub('[ ¶׃]', '', ''.join(exodus_heb_df.content))\n",
    "lev_text = re.sub('[ ¶׃]', '', ''.join(lev_heb_df.content))\n",
    "num_text = re.sub('[ ¶׃]', '', ''.join(numbers_heb_df.content))\n",
    "deu_text = re.sub('[ ¶׃]', '', ''.join(deut_heb_df.content))"
   ]
  },
  {
   "cell_type": "code",
   "execution_count": 10,
   "id": "5440346e",
   "metadata": {},
   "outputs": [
    {
     "data": {
      "text/html": [
       "<div>\n",
       "<style scoped>\n",
       "    .dataframe tbody tr th:only-of-type {\n",
       "        vertical-align: middle;\n",
       "    }\n",
       "\n",
       "    .dataframe tbody tr th {\n",
       "        vertical-align: top;\n",
       "    }\n",
       "\n",
       "    .dataframe thead th {\n",
       "        text-align: right;\n",
       "    }\n",
       "</style>\n",
       "<table border=\"1\" class=\"dataframe\">\n",
       "  <thead>\n",
       "    <tr style=\"text-align: right;\">\n",
       "      <th></th>\n",
       "      <th>letter</th>\n",
       "    </tr>\n",
       "  </thead>\n",
       "  <tbody>\n",
       "    <tr>\n",
       "      <th>0</th>\n",
       "      <td>ת</td>\n",
       "    </tr>\n",
       "    <tr>\n",
       "      <th>1</th>\n",
       "      <td>ו</td>\n",
       "    </tr>\n",
       "    <tr>\n",
       "      <th>2</th>\n",
       "      <td>ר</td>\n",
       "    </tr>\n",
       "    <tr>\n",
       "      <th>3</th>\n",
       "      <td>ה</td>\n",
       "    </tr>\n",
       "  </tbody>\n",
       "</table>\n",
       "</div>"
      ],
      "text/plain": [
       "  letter\n",
       "0      ת\n",
       "1      ו\n",
       "2      ר\n",
       "3      ה"
      ]
     },
     "execution_count": 10,
     "metadata": {},
     "output_type": "execute_result"
    }
   ],
   "source": [
    "gen_result = forward_parse(gen_text, gen_text.index(torah_letters[0]), 50, torah_letters)\n",
    "gen_result[['letter']]"
   ]
  },
  {
   "cell_type": "code",
   "execution_count": 11,
   "id": "eae36469",
   "metadata": {},
   "outputs": [
    {
     "data": {
      "text/html": [
       "<div>\n",
       "<style scoped>\n",
       "    .dataframe tbody tr th:only-of-type {\n",
       "        vertical-align: middle;\n",
       "    }\n",
       "\n",
       "    .dataframe tbody tr th {\n",
       "        vertical-align: top;\n",
       "    }\n",
       "\n",
       "    .dataframe thead th {\n",
       "        text-align: right;\n",
       "    }\n",
       "</style>\n",
       "<table border=\"1\" class=\"dataframe\">\n",
       "  <thead>\n",
       "    <tr style=\"text-align: right;\">\n",
       "      <th></th>\n",
       "      <th>letter</th>\n",
       "    </tr>\n",
       "  </thead>\n",
       "  <tbody>\n",
       "    <tr>\n",
       "      <th>0</th>\n",
       "      <td>ת</td>\n",
       "    </tr>\n",
       "    <tr>\n",
       "      <th>1</th>\n",
       "      <td>ו</td>\n",
       "    </tr>\n",
       "    <tr>\n",
       "      <th>2</th>\n",
       "      <td>ר</td>\n",
       "    </tr>\n",
       "    <tr>\n",
       "      <th>3</th>\n",
       "      <td>ה</td>\n",
       "    </tr>\n",
       "  </tbody>\n",
       "</table>\n",
       "</div>"
      ],
      "text/plain": [
       "  letter\n",
       "0      ת\n",
       "1      ו\n",
       "2      ר\n",
       "3      ה"
      ]
     },
     "execution_count": 11,
     "metadata": {},
     "output_type": "execute_result"
    }
   ],
   "source": [
    "exo_result = forward_parse(exo_text, exo_text.index(torah_letters[0]), 50, torah_letters)\n",
    "exo_result[['letter']]"
   ]
  },
  {
   "cell_type": "code",
   "execution_count": 12,
   "id": "d1c3022b",
   "metadata": {},
   "outputs": [
    {
     "data": {
      "text/html": [
       "<div>\n",
       "<style scoped>\n",
       "    .dataframe tbody tr th:only-of-type {\n",
       "        vertical-align: middle;\n",
       "    }\n",
       "\n",
       "    .dataframe tbody tr th {\n",
       "        vertical-align: top;\n",
       "    }\n",
       "\n",
       "    .dataframe thead th {\n",
       "        text-align: right;\n",
       "    }\n",
       "</style>\n",
       "<table border=\"1\" class=\"dataframe\">\n",
       "  <thead>\n",
       "    <tr style=\"text-align: right;\">\n",
       "      <th></th>\n",
       "      <th>letter</th>\n",
       "    </tr>\n",
       "  </thead>\n",
       "  <tbody>\n",
       "    <tr>\n",
       "      <th>0</th>\n",
       "      <td>י</td>\n",
       "    </tr>\n",
       "    <tr>\n",
       "      <th>1</th>\n",
       "      <td>ה</td>\n",
       "    </tr>\n",
       "    <tr>\n",
       "      <th>2</th>\n",
       "      <td>ו</td>\n",
       "    </tr>\n",
       "    <tr>\n",
       "      <th>3</th>\n",
       "      <td>ה</td>\n",
       "    </tr>\n",
       "  </tbody>\n",
       "</table>\n",
       "</div>"
      ],
      "text/plain": [
       "  letter\n",
       "0      י\n",
       "1      ה\n",
       "2      ו\n",
       "3      ה"
      ]
     },
     "execution_count": 12,
     "metadata": {},
     "output_type": "execute_result"
    }
   ],
   "source": [
    "lev_result = forward_parse(lev_text, lev_text.index(yahweh_letters[0]), 8, yahweh_letters)\n",
    "lev_result[['letter']]"
   ]
  },
  {
   "cell_type": "code",
   "execution_count": 13,
   "id": "625808ab",
   "metadata": {},
   "outputs": [
    {
     "data": {
      "text/html": [
       "<div>\n",
       "<style scoped>\n",
       "    .dataframe tbody tr th:only-of-type {\n",
       "        vertical-align: middle;\n",
       "    }\n",
       "\n",
       "    .dataframe tbody tr th {\n",
       "        vertical-align: top;\n",
       "    }\n",
       "\n",
       "    .dataframe thead th {\n",
       "        text-align: right;\n",
       "    }\n",
       "</style>\n",
       "<table border=\"1\" class=\"dataframe\">\n",
       "  <thead>\n",
       "    <tr style=\"text-align: right;\">\n",
       "      <th></th>\n",
       "      <th>letter</th>\n",
       "    </tr>\n",
       "  </thead>\n",
       "  <tbody>\n",
       "    <tr>\n",
       "      <th>0</th>\n",
       "      <td>ה</td>\n",
       "    </tr>\n",
       "    <tr>\n",
       "      <th>1</th>\n",
       "      <td>ר</td>\n",
       "    </tr>\n",
       "    <tr>\n",
       "      <th>2</th>\n",
       "      <td>ו</td>\n",
       "    </tr>\n",
       "    <tr>\n",
       "      <th>3</th>\n",
       "      <td>ת</td>\n",
       "    </tr>\n",
       "  </tbody>\n",
       "</table>\n",
       "</div>"
      ],
      "text/plain": [
       "  letter\n",
       "0      ה\n",
       "1      ר\n",
       "2      ו\n",
       "3      ת"
      ]
     },
     "execution_count": 13,
     "metadata": {},
     "output_type": "execute_result"
    }
   ],
   "source": [
    "num_result = forward_parse(num_text, get_indices(num_text, torah_rev_letters[0])[2], 50, torah_rev_letters)\n",
    "num_result[['letter']]"
   ]
  },
  {
   "cell_type": "code",
   "execution_count": 14,
   "id": "3c89f8cb",
   "metadata": {
    "scrolled": true
   },
   "outputs": [
    {
     "data": {
      "text/html": [
       "<div>\n",
       "<style scoped>\n",
       "    .dataframe tbody tr th:only-of-type {\n",
       "        vertical-align: middle;\n",
       "    }\n",
       "\n",
       "    .dataframe tbody tr th {\n",
       "        vertical-align: top;\n",
       "    }\n",
       "\n",
       "    .dataframe thead th {\n",
       "        text-align: right;\n",
       "    }\n",
       "</style>\n",
       "<table border=\"1\" class=\"dataframe\">\n",
       "  <thead>\n",
       "    <tr style=\"text-align: right;\">\n",
       "      <th></th>\n",
       "      <th>letter</th>\n",
       "    </tr>\n",
       "  </thead>\n",
       "  <tbody>\n",
       "    <tr>\n",
       "      <th>0</th>\n",
       "      <td>ה</td>\n",
       "    </tr>\n",
       "    <tr>\n",
       "      <th>1</th>\n",
       "      <td>ר</td>\n",
       "    </tr>\n",
       "    <tr>\n",
       "      <th>2</th>\n",
       "      <td>ו</td>\n",
       "    </tr>\n",
       "    <tr>\n",
       "      <th>3</th>\n",
       "      <td>ת</td>\n",
       "    </tr>\n",
       "  </tbody>\n",
       "</table>\n",
       "</div>"
      ],
      "text/plain": [
       "  letter\n",
       "0      ה\n",
       "1      ר\n",
       "2      ו\n",
       "3      ת"
      ]
     },
     "execution_count": 14,
     "metadata": {},
     "output_type": "execute_result"
    }
   ],
   "source": [
    "deu_result = forward_parse(deu_text, get_indices(deu_text, torah_rev_letters[0])[20], 49, torah_rev_letters)\n",
    "deu_result[['letter']]"
   ]
  },
  {
   "cell_type": "code",
   "execution_count": null,
   "id": "49e0adfb",
   "metadata": {},
   "outputs": [],
   "source": []
  },
  {
   "cell_type": "code",
   "execution_count": 15,
   "id": "41afd75c",
   "metadata": {},
   "outputs": [],
   "source": [
    "# Iterate through the whole book, locating any other occurances of this pattern. \n",
    "# Experiment with different step values.\n",
    "# Save the results of # occurances of the pattern for different step values to determine a rate of probability/ chance of it being coincidence"
   ]
  },
  {
   "cell_type": "code",
   "execution_count": 16,
   "id": "cf316132",
   "metadata": {},
   "outputs": [
    {
     "name": "stdout",
     "output_type": "stream",
     "text": [
      "   index  position letter\n",
      "0      5         0      ת\n",
      "1     55         0      ו\n",
      "2    105         0      ר\n",
      "3    155         0      ה\n",
      "   index  position letter\n",
      "0  18716         0      ת\n",
      "1  18766         0      ו\n",
      "2  18816         0      ר\n",
      "3  18866         0      ה\n",
      "   index  position letter\n",
      "0  76322         0      ת\n",
      "1  76372         0      ו\n",
      "2  76422         0      ר\n",
      "3  76472         0      ה\n",
      "num_matches = 3\n"
     ]
    }
   ],
   "source": [
    "indices = get_indices(gen_text, torah_letters[0])\n",
    "num_matches = 0\n",
    "\n",
    "for i in indices:\n",
    "    df = forward_parse(gen_text, i, 50, torah_letters)\n",
    "    if compare_pattern(df, torah_letters):\n",
    "        num_matches += 1\n",
    "        print(df)\n",
    "print('num_matches =', num_matches)"
   ]
  },
  {
   "cell_type": "code",
   "execution_count": 17,
   "id": "15ef47ed",
   "metadata": {},
   "outputs": [
    {
     "name": "stdout",
     "output_type": "stream",
     "text": [
      "   index  position letter\n",
      "0    659         0      ת\n",
      "1    675         0      ו\n",
      "2    691         0      ר\n",
      "3    707         0      ה\n",
      "   index  position letter\n",
      "0  14719         0      ת\n",
      "1  14735         0      ו\n",
      "2  14751         0      ר\n",
      "3  14767         0      ה\n",
      "   index  position letter\n",
      "0  17779         0      ת\n",
      "1  17795         0      ו\n",
      "2  17811         0      ר\n",
      "3  17827         0      ה\n",
      "   index  position letter\n",
      "0  28317         0      ת\n",
      "1  28333         0      ו\n",
      "2  28349         0      ר\n",
      "3  28365         0      ה\n",
      "num_matches = 4\n"
     ]
    }
   ],
   "source": [
    "indices = get_indices(gen_text, torah_letters[0])\n",
    "num_matches = 0\n",
    "\n",
    "for i in indices:\n",
    "    df = forward_parse(gen_text, i, 16, torah_letters)\n",
    "    if compare_pattern(df, torah_letters):\n",
    "        num_matches += 1\n",
    "        print(df)\n",
    "print('num_matches =', num_matches)"
   ]
  },
  {
   "cell_type": "markdown",
   "id": "7c14dd6f",
   "metadata": {},
   "source": [
    "indices = get_indices(exo_text, torah_letters[0])\n",
    "num_matches = 0\n",
    "\n",
    "for i in indices:\n",
    "    df = forward_parse(exo_text, i, 50, torah_letters)\n",
    "    if compare_pattern(df, torah_letters):\n",
    "        num_matches += 1\n",
    "        print(df)\n",
    "print('num_matches =', num_matches)"
   ]
  },
  {
   "cell_type": "code",
   "execution_count": 18,
   "id": "d62a7338",
   "metadata": {},
   "outputs": [
    {
     "name": "stdout",
     "output_type": "stream",
     "text": [
      "   index  position letter\n",
      "0      1         0      י\n",
      "1      9         0      ה\n",
      "2     17         0      ו\n",
      "3     25         0      ה\n",
      "   index  position letter\n",
      "0   8846         0      י\n",
      "1   8854         0      ה\n",
      "2   8862         0      ו\n",
      "3   8870         0      ה\n",
      "   index  position letter\n",
      "0  15880         0      י\n",
      "1  15888         0      ה\n",
      "2  15896         0      ו\n",
      "3  15904         0      ה\n",
      "   index  position letter\n",
      "0  19267         0      י\n",
      "1  19275         0      ה\n",
      "2  19283         0      ו\n",
      "3  19291         0      ה\n",
      "   index  position letter\n",
      "0  32550         0      י\n",
      "1  32558         0      ה\n",
      "2  32566         0      ו\n",
      "3  32574         0      ה\n",
      "   index  position letter\n",
      "0  37978         0      י\n",
      "1  37986         0      ה\n",
      "2  37994         0      ו\n",
      "3  38002         0      ה\n",
      "   index  position letter\n",
      "0  42257         0      י\n",
      "1  42265         0      ה\n",
      "2  42273         0      ו\n",
      "3  42281         0      ה\n",
      "num_matches = 7\n"
     ]
    }
   ],
   "source": [
    "indices = get_indices(lev_text, yahweh_letters[0])\n",
    "num_matches = 0\n",
    "\n",
    "for i in indices:\n",
    "    df = forward_parse(lev_text, i, 8, yahweh_letters)\n",
    "    if compare_pattern(df, yahweh_letters):\n",
    "        num_matches += 1\n",
    "        print(df)\n",
    "print('num_matches =', num_matches)"
   ]
  },
  {
   "cell_type": "code",
   "execution_count": 19,
   "id": "7fd226e9",
   "metadata": {},
   "outputs": [
    {
     "name": "stdout",
     "output_type": "stream",
     "text": [
      "   index  position letter\n",
      "0    394         0      י\n",
      "1    409         0      ה\n",
      "2    424         0      ו\n",
      "3    439         0      ה\n",
      "   index  position letter\n",
      "0   1326         0      י\n",
      "1   1341         0      ה\n",
      "2   1356         0      ו\n",
      "3   1371         0      ה\n",
      "   index  position letter\n",
      "0  25903         0      י\n",
      "1  25918         0      ה\n",
      "2  25933         0      ו\n",
      "3  25948         0      ה\n",
      "   index  position letter\n",
      "0  25965         0      י\n",
      "1  25980         0      ה\n",
      "2  25995         0      ו\n",
      "3  26010         0      ה\n",
      "   index  position letter\n",
      "0  30483         0      י\n",
      "1  30498         0      ה\n",
      "2  30513         0      ו\n",
      "3  30528         0      ה\n",
      "   index  position letter\n",
      "0  42243         0      י\n",
      "1  42258         0      ה\n",
      "2  42273         0      ו\n",
      "3  42288         0      ה\n",
      "   index  position letter\n",
      "0  43630         0      י\n",
      "1  43645         0      ה\n",
      "2  43660         0      ו\n",
      "3  43675         0      ה\n",
      "num_matches = 7\n"
     ]
    }
   ],
   "source": [
    "indices = get_indices(lev_text, yahweh_letters[0])\n",
    "num_matches = 0\n",
    "\n",
    "for i in indices:\n",
    "    df = forward_parse(lev_text, i, 15, yahweh_letters)\n",
    "    if compare_pattern(df, yahweh_letters):\n",
    "        num_matches += 1\n",
    "        print(df)\n",
    "print('num_matches =', num_matches)"
   ]
  },
  {
   "cell_type": "code",
   "execution_count": 20,
   "id": "34018e89",
   "metadata": {},
   "outputs": [
    {
     "name": "stdout",
     "output_type": "stream",
     "text": [
      "num_matches = 0\n"
     ]
    }
   ],
   "source": [
    "indices = get_indices(lev_text, yahweh_letters[0])\n",
    "num_matches = 0\n",
    "\n",
    "for i in indices:\n",
    "    df = forward_parse(lev_text, i, 22, yahweh_letters)\n",
    "    if compare_pattern(df, yahweh_letters):\n",
    "        num_matches += 1\n",
    "        print(df)\n",
    "print('num_matches =', num_matches)"
   ]
  },
  {
   "cell_type": "code",
   "execution_count": 21,
   "id": "3c08d39a",
   "metadata": {},
   "outputs": [
    {
     "name": "stdout",
     "output_type": "stream",
     "text": [
      "   index  position letter\n",
      "0     13         0      ה\n",
      "1     63         0      ר\n",
      "2    113         0      ו\n",
      "3    163         0      ת\n",
      "   index  position letter\n",
      "0  29908         0      ה\n",
      "1  29958         0      ר\n",
      "2  30008         0      ו\n",
      "3  30058         0      ת\n",
      "num_matches = 2\n"
     ]
    }
   ],
   "source": [
    "indices = get_indices(num_text, torah_rev_letters[0])\n",
    "num_matches = 0\n",
    "\n",
    "for i in indices:\n",
    "    df = forward_parse(num_text, i, 50, torah_rev_letters)\n",
    "    if compare_pattern(df, torah_rev_letters):\n",
    "        num_matches += 1\n",
    "        print(df)\n",
    "print('num_matches =', num_matches)"
   ]
  },
  {
   "cell_type": "code",
   "execution_count": 22,
   "id": "de36159f",
   "metadata": {},
   "outputs": [
    {
     "name": "stdout",
     "output_type": "stream",
     "text": [
      "   index  position letter\n",
      "0  10387         0      ה\n",
      "1  10437         0      ר\n",
      "2  10487         0      ו\n",
      "3  10537         0      ת\n",
      "   index  position letter\n",
      "0  14774         0      ה\n",
      "1  14824         0      ר\n",
      "2  14874         0      ו\n",
      "3  14924         0      ת\n",
      "   index  position letter\n",
      "0  20389         0      ה\n",
      "1  20439         0      ר\n",
      "2  20489         0      ו\n",
      "3  20539         0      ת\n",
      "   index  position letter\n",
      "0  50689         0      ה\n",
      "1  50739         0      ר\n",
      "2  50789         0      ו\n",
      "3  50839         0      ת\n",
      "num_matches = 4\n"
     ]
    }
   ],
   "source": [
    "indices = get_indices(deu_text, torah_rev_letters[0])\n",
    "num_matches = 0\n",
    "\n",
    "for i in indices:\n",
    "    df = forward_parse(deu_text, i, 50, torah_rev_letters)\n",
    "    if compare_pattern(df, torah_rev_letters):\n",
    "        num_matches += 1\n",
    "        print(df)\n",
    "print('num_matches =', num_matches)"
   ]
  },
  {
   "cell_type": "code",
   "execution_count": 23,
   "id": "0d883b7d",
   "metadata": {},
   "outputs": [
    {
     "name": "stdout",
     "output_type": "stream",
     "text": [
      "   index  position letter\n",
      "0    278         0      ה\n",
      "1    327         0      ר\n",
      "2    376         0      ו\n",
      "3    425         0      ת\n",
      "   index  position letter\n",
      "0  29256         0      ה\n",
      "1  29305         0      ר\n",
      "2  29354         0      ו\n",
      "3  29403         0      ת\n",
      "num_matches = 2\n"
     ]
    }
   ],
   "source": [
    "indices = get_indices(deu_text, torah_rev_letters[0])\n",
    "num_matches = 0\n",
    "\n",
    "for i in indices:\n",
    "    df = forward_parse(deu_text, i, 49, torah_rev_letters)\n",
    "    if compare_pattern(df, torah_rev_letters):\n",
    "        num_matches += 1\n",
    "        print(df)\n",
    "print('num_matches =', num_matches)"
   ]
  },
  {
   "cell_type": "code",
   "execution_count": null,
   "id": "3d352af4",
   "metadata": {},
   "outputs": [],
   "source": []
  }
 ],
 "metadata": {
  "kernelspec": {
   "display_name": "Python 3 (ipykernel)",
   "language": "python",
   "name": "python3"
  },
  "language_info": {
   "codemirror_mode": {
    "name": "ipython",
    "version": 3
   },
   "file_extension": ".py",
   "mimetype": "text/x-python",
   "name": "python",
   "nbconvert_exporter": "python",
   "pygments_lexer": "ipython3",
   "version": "3.9.13"
  }
 },
 "nbformat": 4,
 "nbformat_minor": 5
}

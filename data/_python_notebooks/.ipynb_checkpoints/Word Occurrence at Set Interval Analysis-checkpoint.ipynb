{
 "cells": [
  {
   "cell_type": "markdown",
   "id": "99035369",
   "metadata": {},
   "source": [
    "# Hebrew \"Torah\" Pattern Analysis"
   ]
  },
  {
   "cell_type": "markdown",
   "id": "25880373",
   "metadata": {},
   "source": [
    "Torah = (תּוֹרָה) = tav (ת), vav (ו), resh (ר), and hey (ה)\n",
    "<br />\n",
    "Yahweh = (יהוה) = yod (י), heh (ה),  vav (ו), heh (ה) or YHWH/YHVH\n",
    "\n",
    "Notes:\n",
    "1. In Genesis, 50-step counting begins at the first occurance of tav (ת), which is the 5th letter, which occurs at the end of the first word, \"resit\" or \"In the beginning\".\n",
    "2. In Exodus, 50-step counting begins at the first occurance of tav (ת), which is the 8th letter, which occurs at the end of the second word, \"sem\" or \"the names\".\n",
    "3. In Leviticus, 8-step counting begins at the first occurance of yod (י), which is the 2nd letter, which occurs at the start of the first word, \"qara\" or \"called\".\n",
    "4. In Numbers, 50-step counting starts with the third occurance of hey (ה) which is the 14th letter, which occurs at the end of the 4th word, \"mose\" or \"Moses\".\n",
    "5. In Deuteronomy, 49-step counting starts in the fifth verse, using the fourth occurance of hey (ה) (starting from the fifth verse), which is the 30th letter, which occurs at the start of the 8th word, \"et-tora\" or \"Torah\"."
   ]
  },
  {
   "cell_type": "code",
   "execution_count": null,
   "id": "8736366d",
   "metadata": {},
   "outputs": [],
   "source": [
    "# Import statements\n",
    "import pandas as pd\n",
    "import numpy as np\n",
    "import re"
   ]
  },
  {
   "cell_type": "code",
   "execution_count": null,
   "id": "3c7c4437",
   "metadata": {},
   "outputs": [],
   "source": [
    "# Import the data files\n",
    "heb_mod_df = pd.read_csv(r'..\\translations\\hebrew_modern.csv', header=0, names=['verse_id', 'book_name','book_number','chapter','verse','content'])"
   ]
  },
  {
   "cell_type": "code",
   "execution_count": null,
   "id": "64180628",
   "metadata": {
    "scrolled": true
   },
   "outputs": [],
   "source": [
    "heb_mod_df.head()"
   ]
  },
  {
   "cell_type": "code",
   "execution_count": null,
   "id": "09e96d4a",
   "metadata": {},
   "outputs": [],
   "source": [
    "# Declare the words to match as lists\n",
    "torah_letters = ['ת', 'ו', 'ר', 'ה']\n",
    "yahweh_letters = ['י', 'ה', 'ו', 'ה']\n",
    "torah_rev_letters = list(reversed(torah_letters))"
   ]
  },
  {
   "cell_type": "code",
   "execution_count": null,
   "id": "ee5d8a88",
   "metadata": {},
   "outputs": [],
   "source": [
    "# Return a list of indices for all occurances of a given letter in a given text\n",
    "def get_indices(text, letter):\n",
    "    return [i for i, c in enumerate(text) if c == letter]"
   ]
  },
  {
   "cell_type": "code",
   "execution_count": null,
   "id": "b5f777ff",
   "metadata": {},
   "outputs": [],
   "source": [
    "# Return whether the given letters are present in order in the given df\n",
    "def compare_pattern(compare_df, matches):\n",
    "    if len(compare_df) < len(matches):\n",
    "        return False\n",
    "    for i in list(range(len(matches))):\n",
    "        if compare_df.letter[i] != matches[i]:\n",
    "            return False\n",
    "        else:\n",
    "            continue\n",
    "    return True"
   ]
  },
  {
   "cell_type": "code",
   "execution_count": null,
   "id": "7c48f052",
   "metadata": {},
   "outputs": [],
   "source": [
    "# Pull every Nth letter, given the starting char and occurance\n",
    "def forward_parse(text, start_pos, step, letters):\n",
    "    \n",
    "    index = 1\n",
    "    first_iteration=True\n",
    "    letter_count = 0\n",
    "    index_list = []\n",
    "\n",
    "    for i, c in enumerate(text):\n",
    "        if i < start_pos and first_iteration:\n",
    "            index_list.append(index)\n",
    "        elif i == start_pos:\n",
    "            index = 0\n",
    "            first_iteration = False\n",
    "            index_list.append(index)\n",
    "            letter_count = 1\n",
    "        elif index < step and not first_iteration:\n",
    "            index_list.append(index)\n",
    "        else:\n",
    "            index = 0\n",
    "            index_list.append(index)\n",
    "            letter_count += 1\n",
    "        index += 1\n",
    "        \n",
    "    df = pd.DataFrame(list(zip(index_list, text)), columns=['position', 'letter'])\n",
    "    return df.loc[df.position == 0].reset_index().head(len(letters))"
   ]
  },
  {
   "cell_type": "code",
   "execution_count": null,
   "id": "4469afdf",
   "metadata": {
    "scrolled": true
   },
   "outputs": [],
   "source": [
    "genesis_heb_df = heb_mod_df.loc[heb_mod_df.book_number == 1]\n",
    "exodus_heb_df = heb_mod_df.loc[heb_mod_df.book_number == 2]\n",
    "lev_heb_df = heb_mod_df.loc[heb_mod_df.book_number == 3]\n",
    "numbers_heb_df = heb_mod_df.loc[heb_mod_df.book_number == 4]\n",
    "deut_heb_df = heb_mod_df.loc[heb_mod_df.book_number == 5]"
   ]
  },
  {
   "cell_type": "code",
   "execution_count": null,
   "id": "3c916a5a",
   "metadata": {},
   "outputs": [],
   "source": [
    "gen_text = re.sub('[ ¶׃]', '', ''.join(genesis_heb_df.content))\n",
    "exo_text = re.sub('[ ¶׃]', '', ''.join(exodus_heb_df.content))\n",
    "lev_text = re.sub('[ ¶׃]', '', ''.join(lev_heb_df.content))\n",
    "num_text = re.sub('[ ¶׃]', '', ''.join(numbers_heb_df.content))\n",
    "deu_text = re.sub('[ ¶׃]', '', ''.join(deut_heb_df.content))"
   ]
  },
  {
   "cell_type": "code",
   "execution_count": null,
   "id": "5440346e",
   "metadata": {},
   "outputs": [],
   "source": [
    "gen_result = forward_parse(gen_text, gen_text.index(torah_letters[0]), 50, torah_letters)\n",
    "gen_result[['letter']]"
   ]
  },
  {
   "cell_type": "code",
   "execution_count": null,
   "id": "eae36469",
   "metadata": {},
   "outputs": [],
   "source": [
    "exo_result = forward_parse(exo_text, exo_text.index(torah_letters[0]), 50, torah_letters)\n",
    "exo_result[['letter']]"
   ]
  },
  {
   "cell_type": "code",
   "execution_count": null,
   "id": "d1c3022b",
   "metadata": {},
   "outputs": [],
   "source": [
    "lev_result = forward_parse(lev_text, lev_text.index(yahweh_letters[0]), 8, yahweh_letters)\n",
    "lev_result[['letter']]"
   ]
  },
  {
   "cell_type": "code",
   "execution_count": null,
   "id": "625808ab",
   "metadata": {},
   "outputs": [],
   "source": [
    "num_result = forward_parse(num_text, get_indices(num_text, torah_rev_letters[0])[2], 50, torah_rev_letters)\n",
    "num_result[['letter']]"
   ]
  },
  {
   "cell_type": "code",
   "execution_count": null,
   "id": "3c89f8cb",
   "metadata": {
    "scrolled": true
   },
   "outputs": [],
   "source": [
    "deu_result = forward_parse(deu_text, get_indices(deu_text, torah_rev_letters[0])[20], 49, torah_rev_letters)\n",
    "deu_result[['letter']]"
   ]
  },
  {
   "cell_type": "code",
   "execution_count": null,
   "id": "49e0adfb",
   "metadata": {},
   "outputs": [],
   "source": []
  },
  {
   "cell_type": "code",
   "execution_count": null,
   "id": "41afd75c",
   "metadata": {},
   "outputs": [],
   "source": [
    "# Iterate through the whole book, locating any other occurances of this pattern. \n",
    "# Experiment with different step values.\n",
    "# Save the results of # occurances of the pattern for different step values to determine a rate of probability/ chance of it being coincidence"
   ]
  },
  {
   "cell_type": "code",
   "execution_count": null,
   "id": "cf316132",
   "metadata": {},
   "outputs": [],
   "source": [
    "indices = get_indices(gen_text, torah_letters[0])\n",
    "num_matches = 0\n",
    "\n",
    "for i in indices:\n",
    "    df = forward_parse(gen_text, i, 50, torah_letters)\n",
    "    if compare_pattern(df, torah_letters):\n",
    "        num_matches += 1\n",
    "        print(df)\n",
    "print('num_matches =', num_matches)"
   ]
  },
  {
   "cell_type": "code",
   "execution_count": null,
   "id": "15ef47ed",
   "metadata": {},
   "outputs": [],
   "source": [
    "indices = get_indices(gen_text, torah_letters[0])\n",
    "num_matches = 0\n",
    "\n",
    "for i in indices:\n",
    "    df = forward_parse(gen_text, i, 16, torah_letters)\n",
    "    if compare_pattern(df, torah_letters):\n",
    "        num_matches += 1\n",
    "        print(df)\n",
    "print('num_matches =', num_matches)"
   ]
  },
  {
   "cell_type": "markdown",
   "id": "7c14dd6f",
   "metadata": {},
   "source": [
    "indices = get_indices(exo_text, torah_letters[0])\n",
    "num_matches = 0\n",
    "\n",
    "for i in indices:\n",
    "    df = forward_parse(exo_text, i, 50, torah_letters)\n",
    "    if compare_pattern(df, torah_letters):\n",
    "        num_matches += 1\n",
    "        print(df)\n",
    "print('num_matches =', num_matches)"
   ]
  },
  {
   "cell_type": "code",
   "execution_count": null,
   "id": "d62a7338",
   "metadata": {},
   "outputs": [],
   "source": [
    "indices = get_indices(lev_text, yahweh_letters[0])\n",
    "num_matches = 0\n",
    "\n",
    "for i in indices:\n",
    "    df = forward_parse(lev_text, i, 8, yahweh_letters)\n",
    "    if compare_pattern(df, yahweh_letters):\n",
    "        num_matches += 1\n",
    "        print(df)\n",
    "print('num_matches =', num_matches)"
   ]
  },
  {
   "cell_type": "code",
   "execution_count": null,
   "id": "7fd226e9",
   "metadata": {},
   "outputs": [],
   "source": [
    "indices = get_indices(lev_text, yahweh_letters[0])\n",
    "num_matches = 0\n",
    "\n",
    "for i in indices:\n",
    "    df = forward_parse(lev_text, i, 15, yahweh_letters)\n",
    "    if compare_pattern(df, yahweh_letters):\n",
    "        num_matches += 1\n",
    "        print(df)\n",
    "print('num_matches =', num_matches)"
   ]
  },
  {
   "cell_type": "code",
   "execution_count": null,
   "id": "34018e89",
   "metadata": {},
   "outputs": [],
   "source": [
    "indices = get_indices(lev_text, yahweh_letters[0])\n",
    "num_matches = 0\n",
    "\n",
    "for i in indices:\n",
    "    df = forward_parse(lev_text, i, 22, yahweh_letters)\n",
    "    if compare_pattern(df, yahweh_letters):\n",
    "        num_matches += 1\n",
    "        print(df)\n",
    "print('num_matches =', num_matches)"
   ]
  },
  {
   "cell_type": "code",
   "execution_count": null,
   "id": "3c08d39a",
   "metadata": {},
   "outputs": [],
   "source": [
    "indices = get_indices(num_text, torah_rev_letters[0])\n",
    "num_matches = 0\n",
    "\n",
    "for i in indices:\n",
    "    df = forward_parse(num_text, i, 50, torah_rev_letters)\n",
    "    if compare_pattern(df, torah_rev_letters):\n",
    "        num_matches += 1\n",
    "        print(df)\n",
    "print('num_matches =', num_matches)"
   ]
  },
  {
   "cell_type": "code",
   "execution_count": null,
   "id": "de36159f",
   "metadata": {},
   "outputs": [],
   "source": [
    "indices = get_indices(deu_text, torah_rev_letters[0])\n",
    "num_matches = 0\n",
    "\n",
    "for i in indices:\n",
    "    df = forward_parse(deu_text, i, 50, torah_rev_letters)\n",
    "    if compare_pattern(df, torah_rev_letters):\n",
    "        num_matches += 1\n",
    "        print(df)\n",
    "print('num_matches =', num_matches)"
   ]
  },
  {
   "cell_type": "code",
   "execution_count": null,
   "id": "0d883b7d",
   "metadata": {},
   "outputs": [],
   "source": [
    "indices = get_indices(deu_text, torah_rev_letters[0])\n",
    "num_matches = 0\n",
    "\n",
    "for i in indices:\n",
    "    df = forward_parse(deu_text, i, 49, torah_rev_letters)\n",
    "    if compare_pattern(df, torah_rev_letters):\n",
    "        num_matches += 1\n",
    "        print(df)\n",
    "print('num_matches =', num_matches)"
   ]
  },
  {
   "cell_type": "code",
   "execution_count": null,
   "id": "3d352af4",
   "metadata": {},
   "outputs": [],
   "source": []
  }
 ],
 "metadata": {
  "kernelspec": {
   "display_name": "Python 3 (ipykernel)",
   "language": "python",
   "name": "python3"
  },
  "language_info": {
   "codemirror_mode": {
    "name": "ipython",
    "version": 3
   },
   "file_extension": ".py",
   "mimetype": "text/x-python",
   "name": "python",
   "nbconvert_exporter": "python",
   "pygments_lexer": "ipython3",
   "version": "3.9.13"
  }
 },
 "nbformat": 4,
 "nbformat_minor": 5
}

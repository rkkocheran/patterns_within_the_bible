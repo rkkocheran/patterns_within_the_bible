{
 "cells": [
  {
   "cell_type": "code",
   "execution_count": null,
   "id": "f1a284a5",
   "metadata": {},
   "outputs": [],
   "source": [
    "import pandas as pd\n",
    "import re"
   ]
  },
  {
   "cell_type": "code",
   "execution_count": null,
   "id": "5dc99221",
   "metadata": {},
   "outputs": [],
   "source": [
    "num_df = pd.read_excel('../acts_and_miracles/acts_and_miracles_preprep.xlsx', sheet_name='book_to_number', header=0)\n",
    "num_df"
   ]
  },
  {
   "cell_type": "code",
   "execution_count": null,
   "id": "970b2b43",
   "metadata": {
    "scrolled": true
   },
   "outputs": [],
   "source": [
    "df = pd.read_excel('../acts_and_miracles/acts_and_miracles_preprep.xlsx', sheet_name='acts_and_miracles')\n",
    "df"
   ]
  },
  {
   "cell_type": "code",
   "execution_count": null,
   "id": "936c929a",
   "metadata": {},
   "outputs": [],
   "source": [
    "def extract_words_left_of_numbers(text):\n",
    "    \"\"\"\n",
    "    Extract all words left of middle-occurring numbers,\n",
    "    or leftmost number+words if starts with number\n",
    "    \"\"\"\n",
    "    if pd.isna(text):\n",
    "        return \"\"\n",
    "    \n",
    "    text = str(text).strip()\n",
    "    \n",
    "    # Case 1: Starts with number - get number + following words until next number\n",
    "    if re.match(r'^\\d', text):\n",
    "        pattern = r'^(\\d+\\s*[A-Za-z]+(?:\\s+[A-Za-z]+)*)'\n",
    "        match = re.search(pattern, text)\n",
    "        return match.group(1).strip() if match else \"\"\n",
    "    \n",
    "    # Case 2: Starts with letters - get all words before first number\n",
    "    else:\n",
    "        pattern = r'^([A-Za-z]+(?:\\s+[A-Za-z]+)*)'\n",
    "        match = re.search(pattern, text)\n",
    "        return match.group(1).strip() if match else \"\""
   ]
  },
  {
   "cell_type": "code",
   "execution_count": null,
   "id": "ae558d25",
   "metadata": {
    "scrolled": true
   },
   "outputs": [],
   "source": [
    "df['book_name'] = [extract_words_left_of_numbers(ref) for ref in df.Reference]\n",
    "df"
   ]
  },
  {
   "cell_type": "code",
   "execution_count": null,
   "id": "0c6cd36c",
   "metadata": {},
   "outputs": [],
   "source": [
    "mergeddf = pd.merge(df, num_df, how='left', on='book_name')\n",
    "mergeddf"
   ]
  },
  {
   "cell_type": "code",
   "execution_count": null,
   "id": "e25f090d",
   "metadata": {},
   "outputs": [],
   "source": [
    "mergeddf.to_excel('../acts_and_miracles/acts_and_miracles.xlsx', sheet_name='acts_and_miracles', index=False)"
   ]
  }
 ],
 "metadata": {
  "kernelspec": {
   "display_name": "Python 3 (ipykernel)",
   "language": "python",
   "name": "python3"
  },
  "language_info": {
   "codemirror_mode": {
    "name": "ipython",
    "version": 3
   },
   "file_extension": ".py",
   "mimetype": "text/x-python",
   "name": "python",
   "nbconvert_exporter": "python",
   "pygments_lexer": "ipython3",
   "version": "3.9.13"
  }
 },
 "nbformat": 4,
 "nbformat_minor": 5
}
